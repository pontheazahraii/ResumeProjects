{
 "cells": [
  {
   "cell_type": "code",
   "execution_count": 89,
   "metadata": {},
   "outputs": [],
   "source": [
    "import os\n",
    "import pandas as pd\n",
    "import tensorflow as tf\n",
    "import tensorflow.keras as kb\n",
    "from tensorflow.keras import layers\n",
    "import numpy as np\n",
    "import matplotlib.pyplot as plt\n",
    "from keras.preprocessing.image import ImageDataGenerator\n",
    "from keras.models import Sequential\n",
    "from keras.layers import Dense, Conv2D, MaxPooling2D, Flatten, Dropout\n",
    "from keras.optimizers import Adam\n",
    "from sklearn.model_selection import train_test_split\n",
    "from keras.models import load_model\n",
    "import matplotlib.pyplot as plt\n",
    "import visualkeras"
   ]
  },
  {
   "cell_type": "code",
   "execution_count": 35,
   "metadata": {},
   "outputs": [],
   "source": [
    "# Define the path to the CFD image directory\n",
    "path_to_cfd_images = r'C:\\Users\\kyleb\\Downloads\\cfd\\CFD Version 3.0\\Images\\CFD'\n",
    "\n",
    "# Define the path to the CSV file\n",
    "path_to_csv_file = r'C:\\Users\\kyleb\\Downloads\\FinalProjectDF.csv'"
   ]
  },
  {
   "cell_type": "code",
   "execution_count": 36,
   "metadata": {},
   "outputs": [
    {
     "data": {
      "text/html": [
       "<div>\n",
       "<style scoped>\n",
       "    .dataframe tbody tr th:only-of-type {\n",
       "        vertical-align: middle;\n",
       "    }\n",
       "\n",
       "    .dataframe tbody tr th {\n",
       "        vertical-align: top;\n",
       "    }\n",
       "\n",
       "    .dataframe thead th {\n",
       "        text-align: right;\n",
       "    }\n",
       "</style>\n",
       "<table border=\"1\" class=\"dataframe\">\n",
       "  <thead>\n",
       "    <tr style=\"text-align: right;\">\n",
       "      <th></th>\n",
       "      <th>ID</th>\n",
       "      <th>Gender</th>\n",
       "      <th>Age</th>\n",
       "      <th>AttractiveScore</th>\n",
       "      <th>path</th>\n",
       "    </tr>\n",
       "  </thead>\n",
       "  <tbody>\n",
       "    <tr>\n",
       "      <th>0</th>\n",
       "      <td>AF-200</td>\n",
       "      <td>F</td>\n",
       "      <td>33</td>\n",
       "      <td>4.111111</td>\n",
       "      <td>C:\\Users\\kyleb\\Downloads\\cfd\\CFD Version 3.0\\I...</td>\n",
       "    </tr>\n",
       "    <tr>\n",
       "      <th>1</th>\n",
       "      <td>AF-201</td>\n",
       "      <td>F</td>\n",
       "      <td>24</td>\n",
       "      <td>3.111111</td>\n",
       "      <td>C:\\Users\\kyleb\\Downloads\\cfd\\CFD Version 3.0\\I...</td>\n",
       "    </tr>\n",
       "    <tr>\n",
       "      <th>2</th>\n",
       "      <td>AF-202</td>\n",
       "      <td>F</td>\n",
       "      <td>24</td>\n",
       "      <td>3.000000</td>\n",
       "      <td>C:\\Users\\kyleb\\Downloads\\cfd\\CFD Version 3.0\\I...</td>\n",
       "    </tr>\n",
       "    <tr>\n",
       "      <th>3</th>\n",
       "      <td>AF-203</td>\n",
       "      <td>F</td>\n",
       "      <td>23</td>\n",
       "      <td>3.275862</td>\n",
       "      <td>C:\\Users\\kyleb\\Downloads\\cfd\\CFD Version 3.0\\I...</td>\n",
       "    </tr>\n",
       "    <tr>\n",
       "      <th>4</th>\n",
       "      <td>AF-204</td>\n",
       "      <td>F</td>\n",
       "      <td>30</td>\n",
       "      <td>3.172414</td>\n",
       "      <td>C:\\Users\\kyleb\\Downloads\\cfd\\CFD Version 3.0\\I...</td>\n",
       "    </tr>\n",
       "  </tbody>\n",
       "</table>\n",
       "</div>"
      ],
      "text/plain": [
       "       ID Gender  Age  AttractiveScore  \\\n",
       "0  AF-200      F   33         4.111111   \n",
       "1  AF-201      F   24         3.111111   \n",
       "2  AF-202      F   24         3.000000   \n",
       "3  AF-203      F   23         3.275862   \n",
       "4  AF-204      F   30         3.172414   \n",
       "\n",
       "                                                path  \n",
       "0  C:\\Users\\kyleb\\Downloads\\cfd\\CFD Version 3.0\\I...  \n",
       "1  C:\\Users\\kyleb\\Downloads\\cfd\\CFD Version 3.0\\I...  \n",
       "2  C:\\Users\\kyleb\\Downloads\\cfd\\CFD Version 3.0\\I...  \n",
       "3  C:\\Users\\kyleb\\Downloads\\cfd\\CFD Version 3.0\\I...  \n",
       "4  C:\\Users\\kyleb\\Downloads\\cfd\\CFD Version 3.0\\I...  "
      ]
     },
     "execution_count": 36,
     "metadata": {},
     "output_type": "execute_result"
    }
   ],
   "source": [
    "# Load the CSV file into a pandas dataframe\n",
    "df = pd.read_csv(path_to_csv_file)\n",
    "\n",
    "# Define a function to identify all the JPEG files in a directory and its subdirectories\n",
    "def find_jpg_files(path):\n",
    "    jpg_files = []\n",
    "    for root, dirs, files in os.walk(path):\n",
    "        for file in files:\n",
    "            if file.endswith('.jpg'):\n",
    "                jpg_files.append(os.path.join(root, file))\n",
    "    return jpg_files\n",
    "\n",
    "# Use the find_jpg_files function to get a list of all JPEG files in the CFD image directory\n",
    "jpg_files = find_jpg_files(path_to_cfd_images)\n",
    "\n",
    "# Loop through each JPEG file and add its path to the \"path\" column of the corresponding row in the dataframe\n",
    "for jpg_file in jpg_files:\n",
    "    # Extract the subject ID from the file path\n",
    "    subject_id = os.path.basename(os.path.dirname(jpg_file))\n",
    "    # Find the row in the dataframe corresponding to the subject ID\n",
    "    row_index = df.index[df['ID'] == subject_id][0]\n",
    "    # Add the file path to the \"path\" column of the corresponding row\n",
    "    df.at[row_index, 'path'] = jpg_file\n",
    "\n",
    "# Convert gender column to binary labels. 0 for F, 1 for M\n",
    "# df[\"Gender\"] = df[\"Gender\"].apply(lambda x: 1 if x == \"M\" else 0)\n",
    "df.head()"
   ]
  },
  {
   "cell_type": "code",
   "execution_count": 37,
   "metadata": {},
   "outputs": [
    {
     "name": "stdout",
     "output_type": "stream",
     "text": [
      "Found 477 validated image filenames belonging to 2 classes.\n",
      "Found 120 validated image filenames belonging to 2 classes.\n"
     ]
    }
   ],
   "source": [
    "# Split the data into training and testing sets\n",
    "train_df, test_df = train_test_split(df, test_size=0.2)\n",
    "\n",
    "# Define input shape\n",
    "input_shape = (400, 400, 3) # assuming images are 100x100 pixels with 3 color channels\n",
    "\n",
    "# Define the CNN architecture\n",
    "gender_model = Sequential()\n",
    "gender_model.add(Conv2D(32, kernel_size=(3, 3), activation=\"relu\", input_shape=input_shape))\n",
    "gender_model.add(MaxPooling2D(pool_size=(2, 2)))\n",
    "gender_model.add(Conv2D(64, kernel_size=(3, 3), activation=\"relu\"))\n",
    "gender_model.add(MaxPooling2D(pool_size=(2, 2)))\n",
    "gender_model.add(Conv2D(128, kernel_size=(3, 3), activation=\"relu\"))\n",
    "gender_model.add(MaxPooling2D(pool_size=(2, 2)))\n",
    "gender_model.add(Flatten())\n",
    "gender_model.add(Dense(256, activation=\"relu\"))\n",
    "gender_model.add(Dense(1, activation=\"sigmoid\"))\n",
    "\n",
    "# Compile the model\n",
    "gender_model.compile(loss=\"binary_crossentropy\", optimizer=\"adam\", metrics=[\"accuracy\"])\n",
    "\n",
    "# Define the image generator for loading images from disk\n",
    "image_generator = tf.keras.preprocessing.image.ImageDataGenerator(rescale=1./255)\n",
    "\n",
    "# Define the batch size\n",
    "batch_size = 32\n",
    "\n",
    "# Create a generator for loading training images from the dataframe\n",
    "train_data_generator = image_generator.flow_from_dataframe(\n",
    "    dataframe=train_df,\n",
    "    x_col=\"path\",\n",
    "    y_col=\"Gender\",\n",
    "    target_size=(400, 400),\n",
    "    batch_size=batch_size,\n",
    "    class_mode=\"binary\"\n",
    ")\n",
    "\n",
    "# Create a generator for loading testing images from the dataframe\n",
    "test_data_generator = image_generator.flow_from_dataframe(\n",
    "    dataframe=test_df,\n",
    "    x_col=\"path\",\n",
    "    y_col=\"Gender\",\n",
    "    target_size=(400, 400),\n",
    "    batch_size=batch_size,\n",
    "    class_mode=\"binary\"\n",
    ")"
   ]
  },
  {
   "cell_type": "code",
   "execution_count": 38,
   "metadata": {},
   "outputs": [
    {
     "name": "stdout",
     "output_type": "stream",
     "text": [
      "Epoch 1/10\n",
      "15/15 [==============================] - 81s 5s/step - loss: 2.9181 - accuracy: 0.5388 - val_loss: 0.6011 - val_accuracy: 0.7250\n",
      "Epoch 2/10\n",
      "15/15 [==============================] - 63s 4s/step - loss: 0.5984 - accuracy: 0.6520 - val_loss: 0.4505 - val_accuracy: 0.8167\n",
      "Epoch 3/10\n",
      "15/15 [==============================] - 64s 4s/step - loss: 0.4432 - accuracy: 0.7925 - val_loss: 0.3500 - val_accuracy: 0.8583\n",
      "Epoch 4/10\n",
      "15/15 [==============================] - 65s 4s/step - loss: 0.3091 - accuracy: 0.8784 - val_loss: 0.3052 - val_accuracy: 0.9000\n",
      "Epoch 5/10\n",
      "15/15 [==============================] - 64s 4s/step - loss: 0.2326 - accuracy: 0.9161 - val_loss: 0.1599 - val_accuracy: 0.9417\n",
      "Epoch 6/10\n",
      "15/15 [==============================] - 64s 4s/step - loss: 0.1713 - accuracy: 0.9287 - val_loss: 0.3177 - val_accuracy: 0.8583\n",
      "Epoch 7/10\n",
      "15/15 [==============================] - 66s 4s/step - loss: 0.1200 - accuracy: 0.9560 - val_loss: 0.2067 - val_accuracy: 0.9000\n",
      "Epoch 8/10\n",
      "15/15 [==============================] - 66s 4s/step - loss: 0.1133 - accuracy: 0.9560 - val_loss: 0.2325 - val_accuracy: 0.9000\n",
      "Epoch 9/10\n",
      "15/15 [==============================] - 66s 4s/step - loss: 0.0766 - accuracy: 0.9706 - val_loss: 0.2285 - val_accuracy: 0.9167\n",
      "Epoch 10/10\n",
      "15/15 [==============================] - 78s 5s/step - loss: 0.0472 - accuracy: 0.9853 - val_loss: 0.1779 - val_accuracy: 0.9250\n",
      "4/4 [==============================] - 8s 2s/step - loss: 0.1779 - accuracy: 0.9250\n",
      "Accuracy: 0.925000011920929\n"
     ]
    }
   ],
   "source": [
    "# Train the model\n",
    "history = gender_model.fit(train_data_generator, epochs=10, validation_data=test_data_generator)\n",
    "\n",
    "# Evaluate the model\n",
    "loss, accuracy = gender_model.evaluate(test_data_generator)\n",
    "print(\"Accuracy:\", accuracy)"
   ]
  },
  {
   "cell_type": "code",
   "execution_count": 39,
   "metadata": {},
   "outputs": [],
   "source": [
    "# Save the model to a file\n",
    "gender_model.save('gender_model.h5')"
   ]
  },
  {
   "cell_type": "code",
   "execution_count": 72,
   "metadata": {},
   "outputs": [
    {
     "name": "stdout",
     "output_type": "stream",
     "text": [
      "Model: \"sequential_7\"\n",
      "_________________________________________________________________\n",
      " Layer (type)                Output Shape              Param #   \n",
      "=================================================================\n",
      " conv2d_42 (Conv2D)          (None, 398, 398, 32)      896       \n",
      "                                                                 \n",
      " max_pooling2d_21 (MaxPoolin  (None, 199, 199, 32)     0         \n",
      " g2D)                                                            \n",
      "                                                                 \n",
      " conv2d_43 (Conv2D)          (None, 197, 197, 64)      18496     \n",
      "                                                                 \n",
      " max_pooling2d_22 (MaxPoolin  (None, 98, 98, 64)       0         \n",
      " g2D)                                                            \n",
      "                                                                 \n",
      " conv2d_44 (Conv2D)          (None, 96, 96, 128)       73856     \n",
      "                                                                 \n",
      " max_pooling2d_23 (MaxPoolin  (None, 48, 48, 128)      0         \n",
      " g2D)                                                            \n",
      "                                                                 \n",
      " flatten_7 (Flatten)         (None, 294912)            0         \n",
      "                                                                 \n",
      " dense_21 (Dense)            (None, 256)               75497728  \n",
      "                                                                 \n",
      " dense_22 (Dense)            (None, 1)                 257       \n",
      "                                                                 \n",
      "=================================================================\n",
      "Total params: 75,591,233\n",
      "Trainable params: 75,591,233\n",
      "Non-trainable params: 0\n",
      "_________________________________________________________________\n"
     ]
    }
   ],
   "source": [
    "gender_model.summary()"
   ]
  },
  {
   "cell_type": "code",
   "execution_count": 41,
   "metadata": {},
   "outputs": [
    {
     "data": {
      "image/png": "[encoded data removed]",
      "text/plain": [
       "<Figure size 432x288 with 1 Axes>"
      ]
     },
     "metadata": {
      "needs_background": "light"
     },
     "output_type": "display_data"
    }
   ],
   "source": [
    "# Plot the training loss and validation loss over epochs\n",
    "plt.plot(history.history['loss'])\n",
    "plt.plot(history.history['val_loss'])\n",
    "plt.title('Model loss')\n",
    "plt.ylabel('Loss')\n",
    "plt.xlabel('Epoch')\n",
    "plt.legend(['Training loss', 'Validation loss'], loc='upper right')\n",
    "plt.show()"
   ]
  },
  {
   "cell_type": "code",
   "execution_count": 43,
   "metadata": {},
   "outputs": [
    {
     "data": {
      "image/png": "[encoded data removed]",
      "text/plain": [
       "<Figure size 432x288 with 1 Axes>"
      ]
     },
     "metadata": {
      "needs_background": "light"
     },
     "output_type": "display_data"
    }
   ],
   "source": [
    "# Plot the training accuracy and validation accuracy over epochs\n",
    "plt.plot(history.history['accuracy'])\n",
    "plt.plot(history.history['val_accuracy'])\n",
    "plt.title('Model Accuracy')\n",
    "plt.ylabel('Accuracy')\n",
    "plt.xlabel('Epoch')\n",
    "plt.legend(['Training Accuracy', 'Validation Accuracy'], loc='lower right')\n",
    "plt.show()\n"
   ]
  },
  {
   "cell_type": "code",
   "execution_count": null,
   "metadata": {},
   "outputs": [],
   "source": [
    "# # Define the CNN architecture\n",
    "# male_model = Sequential()\n",
    "\n",
    "# male_model.add(Conv2D(32, kernel_size=(3, 3), activation='relu', input_shape=input_shape))\n",
    "# male_model.add(Conv2D(32, kernel_size=(3, 3), activation='relu',kernel_regularizer =tf.keras.regularizers.l2( l=0.05)))\n",
    "# male_model.add(MaxPooling2D(pool_size=(2, 2)))\n",
    "# male_model.add(Dropout(0.25))\n",
    "\n",
    "# male_model.add(Conv2D(64, kernel_size=(3, 3), activation='relu',kernel_regularizer =tf.keras.regularizers.l2( l=0.05)))\n",
    "# male_model.add(Conv2D(128, kernel_size=(3, 3), activation='relu',kernel_regularizer =tf.keras.regularizers.l2( l=0.05)))\n",
    "# male_model.add(MaxPooling2D(pool_size=(2, 2)))\n",
    "# male_model.add(Dropout(0.25))\n",
    "\n",
    "# male_model.add(Conv2D(128, kernel_size=(3, 3), activation='relu',kernel_regularizer =tf.keras.regularizers.l2( l=0.05)))\n",
    "# male_model.add(Conv2D(256, kernel_size=(3, 3), activation='relu',kernel_regularizer =tf.keras.regularizers.l2( l=0.05)))\n",
    "# male_model.add(MaxPooling2D(pool_size=(2, 2)))\n",
    "# male_model.add(Dropout(0.25))\n",
    "\n",
    "# male_model.add(Flatten())\n",
    "# male_model.add(Dense(512, activation='relu'))\n",
    "# male_model.add(Dropout(0.5))\n",
    "# male_model.add(Dense(256, activation='relu'))\n",
    "# male_model.add(Dropout(0.5))\n",
    "# male_model.add(Dense(1, activation='linear'))\n",
    "\n",
    "# male_model.compile(loss='mean_absolute_error', optimizer='adam', metrics=['mae'])"
   ]
  },
  {
   "cell_type": "code",
   "execution_count": 49,
   "metadata": {},
   "outputs": [
    {
     "name": "stdout",
     "output_type": "stream",
     "text": [
      "Found 232 validated image filenames.\n",
      "Found 58 validated image filenames.\n"
     ]
    }
   ],
   "source": [
    "# Filter for male images only\n",
    "male_df = df[df[\"Gender\"] == \"M\"].reset_index(drop=True)\n",
    "\n",
    "# Split the data into training and testing sets\n",
    "train_df, test_df = train_test_split(male_df, test_size=0.2)\n",
    "\n",
    "# Define input shape\n",
    "input_shape = (400, 400, 3) # assuming images are 100x100 pixels with 3 color channels\n",
    "\n",
    "# Define the model\n",
    "male_model = Sequential()\n",
    "\n",
    "# Convolutional layers\n",
    "male_model.add(Conv2D(32, (3, 3), activation='relu', input_shape=(400, 400, 3)))\n",
    "male_model.add(Conv2D(32, (3, 3), activation='relu'))\n",
    "male_model.add(MaxPooling2D(pool_size=(2, 2)))\n",
    "\n",
    "male_model.add(Conv2D(64, (3, 3), activation='relu'))\n",
    "male_model.add(Conv2D(64, (3, 3), activation='relu'))\n",
    "male_model.add(MaxPooling2D(pool_size=(2, 2)))\n",
    "\n",
    "male_model.add(Conv2D(128, (3, 3), activation='relu'))\n",
    "male_model.add(Conv2D(128, (3, 3), activation='relu'))\n",
    "male_model.add(MaxPooling2D(pool_size=(2, 2)))\n",
    "\n",
    "# Fully connected layers\n",
    "male_model.add(Flatten())\n",
    "male_model.add(Dense(256, activation='relu'))\n",
    "male_model.add(Dense(128, activation='relu'))\n",
    "male_model.add(Dense(64, activation='relu'))\n",
    "male_model.add(Dense(1, activation='linear'))\n",
    "\n",
    "# Compile the model\n",
    "male_model.compile(loss=\"mean_squared_error\", optimizer=\"adam\", metrics=\"mae\")\n",
    "\n",
    "# Define the image generator for loading images from disk\n",
    "image_generator = tf.keras.preprocessing.image.ImageDataGenerator(rescale=1./255)\n",
    "\n",
    "# Define the batch size\n",
    "batch_size = 32\n",
    "\n",
    "# Create a generator for loading training images from the dataframe\n",
    "train_data_generator = image_generator.flow_from_dataframe(\n",
    "    dataframe=train_df,\n",
    "    x_col=\"path\",\n",
    "    y_col=\"AttractiveScore\",\n",
    "    target_size=(400, 400),\n",
    "    batch_size=batch_size,\n",
    "    class_mode=\"raw\"\n",
    ")\n",
    "\n",
    "# Create a generator for loading testing images from the dataframe\n",
    "test_data_generator = image_generator.flow_from_dataframe(\n",
    "    dataframe=test_df,\n",
    "    x_col=\"path\",\n",
    "    y_col=\"AttractiveScore\",\n",
    "    target_size=(400, 400),\n",
    "    batch_size=batch_size,\n",
    "    class_mode=\"raw\"\n",
    ")"
   ]
  },
  {
   "cell_type": "code",
   "execution_count": 51,
   "metadata": {},
   "outputs": [
    {
     "name": "stdout",
     "output_type": "stream",
     "text": [
      "Epoch 1/15\n",
      "8/8 [==============================] - 92s 11s/step - loss: 18.3273 - mae: 3.4429 - val_loss: 1.3804 - val_mae: 1.0182\n",
      "Epoch 2/15\n",
      "8/8 [==============================] - 83s 10s/step - loss: 0.7992 - mae: 0.7256 - val_loss: 1.0674 - val_mae: 0.8133\n",
      "Epoch 3/15\n",
      "8/8 [==============================] - 92s 11s/step - loss: 0.6179 - mae: 0.6210 - val_loss: 0.6144 - val_mae: 0.6295\n",
      "Epoch 4/15\n",
      "8/8 [==============================] - 85s 10s/step - loss: 0.4751 - mae: 0.5613 - val_loss: 0.5093 - val_mae: 0.5767\n",
      "Epoch 5/15\n",
      "8/8 [==============================] - 88s 11s/step - loss: 0.4735 - mae: 0.5477 - val_loss: 0.5390 - val_mae: 0.6060\n",
      "Epoch 6/15\n",
      "8/8 [==============================] - 82s 10s/step - loss: 0.4528 - mae: 0.5423 - val_loss: 0.5265 - val_mae: 0.5968\n",
      "Epoch 7/15\n",
      "8/8 [==============================] - 80s 10s/step - loss: 0.4983 - mae: 0.5546 - val_loss: 0.5403 - val_mae: 0.6092\n",
      "Epoch 8/15\n",
      "8/8 [==============================] - 82s 10s/step - loss: 0.4325 - mae: 0.5162 - val_loss: 0.4946 - val_mae: 0.5685\n",
      "Epoch 9/15\n",
      "8/8 [==============================] - 81s 10s/step - loss: 0.4024 - mae: 0.5107 - val_loss: 0.4918 - val_mae: 0.5667\n",
      "Epoch 10/15\n",
      "8/8 [==============================] - 81s 10s/step - loss: 0.4179 - mae: 0.5139 - val_loss: 0.4958 - val_mae: 0.5692\n",
      "Epoch 11/15\n",
      "8/8 [==============================] - 84s 10s/step - loss: 0.4085 - mae: 0.5137 - val_loss: 0.4859 - val_mae: 0.5639\n",
      "Epoch 12/15\n",
      "8/8 [==============================] - 93s 12s/step - loss: 0.3800 - mae: 0.4900 - val_loss: 0.4805 - val_mae: 0.5610\n",
      "Epoch 13/15\n",
      "8/8 [==============================] - 96s 12s/step - loss: 0.3990 - mae: 0.5003 - val_loss: 0.4999 - val_mae: 0.5704\n",
      "Epoch 14/15\n",
      "8/8 [==============================] - 108s 13s/step - loss: 0.4196 - mae: 0.5114 - val_loss: 0.5195 - val_mae: 0.5994\n",
      "Epoch 15/15\n",
      "8/8 [==============================] - 111s 13s/step - loss: 0.4779 - mae: 0.5629 - val_loss: 0.6079 - val_mae: 0.6205\n",
      "2/2 [==============================] - 7s 2s/step - loss: 0.6079 - mae: 0.6205\n",
      "Mean Squared Error: [0.6078835725784302, 0.6204858422279358]\n"
     ]
    }
   ],
   "source": [
    "# Train the model\n",
    "male_history = male_model.fit(train_data_generator, epochs=15, validation_data=test_data_generator)\n",
    "\n",
    "# Evaluate the model\n",
    "loss = male_model.evaluate(test_data_generator)\n",
    "print(\"Mean Squared Error:\", loss)"
   ]
  },
  {
   "cell_type": "code",
   "execution_count": 75,
   "metadata": {},
   "outputs": [],
   "source": [
    "# Save the model to a file\n",
    "male_model.save('male_model.h5')"
   ]
  },
  {
   "cell_type": "code",
   "execution_count": 58,
   "metadata": {},
   "outputs": [
    {
     "name": "stdout",
     "output_type": "stream",
     "text": [
      "Model: \"sequential_13\"\n",
      "_________________________________________________________________\n",
      " Layer (type)                Output Shape              Param #   \n",
      "=================================================================\n",
      " conv2d_75 (Conv2D)          (None, 398, 398, 32)      896       \n",
      "                                                                 \n",
      " conv2d_76 (Conv2D)          (None, 396, 396, 32)      9248      \n",
      "                                                                 \n",
      " max_pooling2d_39 (MaxPoolin  (None, 198, 198, 32)     0         \n",
      " g2D)                                                            \n",
      "                                                                 \n",
      " conv2d_77 (Conv2D)          (None, 196, 196, 64)      18496     \n",
      "                                                                 \n",
      " conv2d_78 (Conv2D)          (None, 194, 194, 64)      36928     \n",
      "                                                                 \n",
      " max_pooling2d_40 (MaxPoolin  (None, 97, 97, 64)       0         \n",
      " g2D)                                                            \n",
      "                                                                 \n",
      " conv2d_79 (Conv2D)          (None, 95, 95, 128)       73856     \n",
      "                                                                 \n",
      " conv2d_80 (Conv2D)          (None, 93, 93, 128)       147584    \n",
      "                                                                 \n",
      " max_pooling2d_41 (MaxPoolin  (None, 46, 46, 128)      0         \n",
      " g2D)                                                            \n",
      "                                                                 \n",
      " flatten_13 (Flatten)        (None, 270848)            0         \n",
      "                                                                 \n",
      " dense_42 (Dense)            (None, 256)               69337344  \n",
      "                                                                 \n",
      " dense_43 (Dense)            (None, 128)               32896     \n",
      "                                                                 \n",
      " dense_44 (Dense)            (None, 64)                8256      \n",
      "                                                                 \n",
      " dense_45 (Dense)            (None, 1)                 65        \n",
      "                                                                 \n",
      "=================================================================\n",
      "Total params: 69,665,569\n",
      "Trainable params: 69,665,569\n",
      "Non-trainable params: 0\n",
      "_________________________________________________________________\n"
     ]
    }
   ],
   "source": [
    "male_model.summary()"
   ]
  },
  {
   "cell_type": "code",
   "execution_count": 63,
   "metadata": {},
   "outputs": [
    {
     "data": {
      "image/png": "[encoded data removed]",
      "text/plain": [
       "<Figure size 432x288 with 1 Axes>"
      ]
     },
     "metadata": {
      "needs_background": "light"
     },
     "output_type": "display_data"
    }
   ],
   "source": [
    "# Plot the training loss and validation loss over epochs\n",
    "plt.plot(male_history.history['loss'])\n",
    "plt.plot(male_history.history['val_loss'])\n",
    "plt.title('Model loss')\n",
    "plt.ylabel('Loss')\n",
    "plt.xlabel('Epoch')\n",
    "plt.legend(['Training loss', 'Validation loss'], loc='upper right')\n",
    "plt.show()"
   ]
  },
  {
   "cell_type": "code",
   "execution_count": 64,
   "metadata": {},
   "outputs": [
    {
     "data": {
      "image/png": "[encoded data removed]",
      "text/plain": [
       "<Figure size 432x288 with 1 Axes>"
      ]
     },
     "metadata": {
      "needs_background": "light"
     },
     "output_type": "display_data"
    }
   ],
   "source": [
    "# Plot the training mae and validation mae over epochs\n",
    "plt.plot(male_history.history['mae'])\n",
    "plt.plot(male_history.history['val_mae'])\n",
    "plt.title('Model MAE')\n",
    "plt.ylabel('MAE')\n",
    "plt.xlabel('Epoch')\n",
    "plt.legend(['Training MAE', 'Validation MAE'], loc='upper right')\n",
    "plt.show()"
   ]
  },
  {
   "cell_type": "code",
   "execution_count": 74,
   "metadata": {},
   "outputs": [
    {
     "name": "stdout",
     "output_type": "stream",
     "text": [
      "Found 245 validated image filenames.\n",
      "Found 62 validated image filenames.\n"
     ]
    }
   ],
   "source": [
    "# Filter for female images only\n",
    "female_df = df[df[\"Gender\"] == \"F\"].reset_index(drop=True)\n",
    "\n",
    "# Split the data into training and testing sets\n",
    "train_df, test_df = train_test_split(female_df, test_size=0.2)\n",
    "\n",
    "# Define input shape\n",
    "input_shape = (400, 400, 3) # assuming images are 100x100 pixels with 3 color channels\n",
    "\n",
    "# Define the model\n",
    "female_model = Sequential()\n",
    "\n",
    "# Convolutional layers\n",
    "female_model.add(Conv2D(32, (3, 3), activation='relu', input_shape=(400, 400, 3)))\n",
    "female_model.add(Conv2D(32, (3, 3), activation='relu'))\n",
    "female_model.add(MaxPooling2D(pool_size=(2, 2)))\n",
    "\n",
    "female_model.add(Conv2D(64, (3, 3), activation='relu'))\n",
    "female_model.add(Conv2D(64, (3, 3), activation='relu'))\n",
    "female_model.add(MaxPooling2D(pool_size=(2, 2)))\n",
    "\n",
    "female_model.add(Conv2D(128, (3, 3), activation='relu'))\n",
    "female_model.add(Conv2D(128, (3, 3), activation='relu'))\n",
    "female_model.add(MaxPooling2D(pool_size=(2, 2)))\n",
    "\n",
    "# Fully connected layers\n",
    "female_model.add(Flatten())\n",
    "female_model.add(Dense(256, activation='relu'))\n",
    "female_model.add(Dense(128, activation='relu'))\n",
    "female_model.add(Dense(64, activation='relu'))\n",
    "female_model.add(Dense(1, activation='linear'))\n",
    "\n",
    "female_model.compile(loss='mean_absolute_error', optimizer='adam', metrics=['mae'])\n",
    "\n",
    "\n",
    "# Compile the model\n",
    "female_model.compile(loss=\"mean_squared_error\", optimizer=\"adam\",metrics= \"mae\")\n",
    "\n",
    "# Define the image generator for loading images from disk\n",
    "image_generator = tf.keras.preprocessing.image.ImageDataGenerator(rescale=1./255)\n",
    "\n",
    "# Define the batch size\n",
    "batch_size = 32\n",
    "\n",
    "# Create a generator for loading training images from the dataframe\n",
    "train_data_generator = image_generator.flow_from_dataframe(\n",
    "    dataframe=train_df,\n",
    "    x_col=\"path\",\n",
    "    y_col=\"AttractiveScore\",\n",
    "    target_size=(400, 400),\n",
    "    batch_size=batch_size,\n",
    "    class_mode=\"raw\"\n",
    ")\n",
    "\n",
    "# Create a generator for loading testing images from the dataframe\n",
    "test_data_generator = image_generator.flow_from_dataframe(\n",
    "    dataframe=test_df,\n",
    "    x_col=\"path\",\n",
    "    y_col=\"AttractiveScore\",\n",
    "    target_size=(400, 400),\n",
    "    batch_size=batch_size,\n",
    "    class_mode=\"raw\"\n",
    ")"
   ]
  },
  {
   "cell_type": "code",
   "execution_count": 76,
   "metadata": {},
   "outputs": [
    {
     "name": "stdout",
     "output_type": "stream",
     "text": [
      "Epoch 1/15\n",
      "8/8 [==============================] - 105s 14s/step - loss: 141.7304 - mae: 6.4049 - val_loss: 0.7332 - val_mae: 0.7170\n",
      "Epoch 2/15\n",
      "8/8 [==============================] - 88s 11s/step - loss: 1.6399 - mae: 1.0456 - val_loss: 1.4950 - val_mae: 0.9927\n",
      "Epoch 3/15\n",
      "8/8 [==============================] - 91s 11s/step - loss: 1.2903 - mae: 0.9155 - val_loss: 0.9439 - val_mae: 0.7867\n",
      "Epoch 4/15\n",
      "8/8 [==============================] - 87s 11s/step - loss: 0.8037 - mae: 0.7256 - val_loss: 0.5900 - val_mae: 0.6335\n",
      "Epoch 5/15\n",
      "8/8 [==============================] - 84s 10s/step - loss: 0.6463 - mae: 0.6605 - val_loss: 0.6187 - val_mae: 0.6523\n",
      "Epoch 6/15\n",
      "8/8 [==============================] - 87s 11s/step - loss: 0.6236 - mae: 0.6610 - val_loss: 0.6283 - val_mae: 0.6471\n",
      "Epoch 7/15\n",
      "8/8 [==============================] - 86s 11s/step - loss: 0.6528 - mae: 0.6609 - val_loss: 0.6172 - val_mae: 0.6438\n",
      "Epoch 8/15\n",
      "8/8 [==============================] - 85s 11s/step - loss: 0.6479 - mae: 0.6604 - val_loss: 0.8363 - val_mae: 0.7513\n",
      "Epoch 9/15\n",
      "8/8 [==============================] - 90s 11s/step - loss: 0.6564 - mae: 0.6607 - val_loss: 0.7933 - val_mae: 0.7230\n",
      "Epoch 10/15\n",
      "8/8 [==============================] - 86s 11s/step - loss: 0.5834 - mae: 0.6122 - val_loss: 0.7971 - val_mae: 0.7412\n",
      "Epoch 11/15\n",
      "8/8 [==============================] - 87s 11s/step - loss: 0.5848 - mae: 0.6120 - val_loss: 0.6156 - val_mae: 0.6452\n",
      "Epoch 12/15\n",
      "8/8 [==============================] - 87s 11s/step - loss: 0.5064 - mae: 0.5801 - val_loss: 0.6125 - val_mae: 0.6501\n",
      "Epoch 13/15\n",
      "8/8 [==============================] - 86s 11s/step - loss: 0.5521 - mae: 0.6103 - val_loss: 0.6514 - val_mae: 0.6478\n",
      "Epoch 14/15\n",
      "8/8 [==============================] - 88s 11s/step - loss: 0.5961 - mae: 0.6111 - val_loss: 0.7882 - val_mae: 0.7334\n",
      "Epoch 15/15\n",
      "8/8 [==============================] - 92s 11s/step - loss: 0.5973 - mae: 0.6365 - val_loss: 0.5979 - val_mae: 0.6364\n",
      "2/2 [==============================] - 6s 2s/step - loss: 0.5979 - mae: 0.6364\n",
      "Mean Squared Error: [0.5979152321815491, 0.6363550424575806]\n"
     ]
    }
   ],
   "source": [
    "# Train the model\n",
    "female_history = female_model.fit(train_data_generator, epochs=15, validation_data=test_data_generator)\n",
    "\n",
    "# Evaluate the model\n",
    "loss = female_model.evaluate(test_data_generator)\n",
    "print(\"Mean Squared Error:\", loss)\n"
   ]
  },
  {
   "cell_type": "code",
   "execution_count": 77,
   "metadata": {},
   "outputs": [],
   "source": [
    "# Save the model to a file\n",
    "female_model.save('female_model.h5')"
   ]
  },
  {
   "cell_type": "code",
   "execution_count": 81,
   "metadata": {},
   "outputs": [
    {
     "data": {
      "image/png": "[encoded data removed]",
      "text/plain": [
       "<Figure size 432x288 with 1 Axes>"
      ]
     },
     "metadata": {
      "needs_background": "light"
     },
     "output_type": "display_data"
    }
   ],
   "source": [
    "# Plot the training loss and validation loss over epochs\n",
    "plt.plot(female_history.history['loss'])\n",
    "plt.plot(female_history.history['val_loss'])\n",
    "plt.title('Model loss')\n",
    "plt.ylabel('Loss')\n",
    "plt.xlabel('Epoch')\n",
    "plt.legend(['Training loss', 'Validation loss'], loc='upper right')\n",
    "plt.show()"
   ]
  },
  {
   "cell_type": "code",
   "execution_count": 82,
   "metadata": {},
   "outputs": [
    {
     "data": {
      "image/png": "[encoded data removed]",
      "text/plain": [
       "<Figure size 432x288 with 1 Axes>"
      ]
     },
     "metadata": {
      "needs_background": "light"
     },
     "output_type": "display_data"
    }
   ],
   "source": [
    "# Plot the training mae and validation mae over epochs\n",
    "plt.plot(female_history.history['mae'])\n",
    "plt.plot(female_history.history['val_mae'])\n",
    "plt.title('Model MAE')\n",
    "plt.ylabel('MAE')\n",
    "plt.xlabel('Epoch')\n",
    "plt.legend(['Training MAE', 'Validation MAE'], loc='upper right')\n",
    "plt.show()"
   ]
  },
  {
   "cell_type": "code",
   "execution_count": 120,
   "metadata": {},
   "outputs": [
    {
     "name": "stdout",
     "output_type": "stream",
     "text": [
      "1/1 [==============================] - 0s 98ms/step\n"
     ]
    },
    {
     "data": {
      "image/png": "[encoded data removed]",
      "text/plain": [
       "<Figure size 432x288 with 1 Axes>"
      ]
     },
     "metadata": {
      "needs_background": "light"
     },
     "output_type": "display_data"
    }
   ],
   "source": [
    "import cv2\n",
    "import numpy as np\n",
    "import matplotlib.pyplot as plt\n",
    "from tensorflow.keras.preprocessing.image import load_img, img_to_array\n",
    "from tensorflow.keras.models import load_model\n",
    "from tensorflow.keras.applications.vgg16 import preprocess_input, decode_predictions\n",
    "\n",
    "# Define a function to generate the Grad-CAM heatmap\n",
    "def generate_heatmap(model, img_array, class_index):\n",
    "    # Get the last convolutional layer of the model\n",
    "    last_conv_layer = model.get_layer(\"conv2d_44\")\n",
    "\n",
    "    # Create a new model that outputs the last convolutional layer and the model's prediction\n",
    "    grad_model = tf.keras.models.Model(\n",
    "        [model.inputs], [last_conv_layer.output, model.output]\n",
    "    )\n",
    "\n",
    "    # Get the gradient of the predicted class with respect to the output feature map of the last convolutional layer\n",
    "    with tf.GradientTape() as tape:\n",
    "        conv_output, predictions = grad_model(img_array)\n",
    "        loss = predictions[:, class_index]\n",
    "    grads = tape.gradient(loss, conv_output)\n",
    "\n",
    "    # Compute the global average of the gradients across all feature maps\n",
    "    pooled_grads = tf.reduce_mean(grads, axis=(0, 1, 2))\n",
    "\n",
    "    # Compute the weighted sum of the feature maps with the gradients\n",
    "    last_conv_output = conv_output[0]\n",
    "    heatmap = last_conv_output @ pooled_grads[..., tf.newaxis]\n",
    "    heatmap = tf.squeeze(heatmap)\n",
    "    heatmap = tf.maximum(heatmap, 0) / tf.math.reduce_max(heatmap)\n",
    "\n",
    "    return heatmap.numpy()\n",
    "\n",
    "# Load the test image\n",
    "img_path = r\"C:\\Users\\kyleb\\Downloads\\IMG-5298.jpg\"\n",
    "img = load_img(img_path, target_size=(400, 400))\n",
    "img_array = img_to_array(img)\n",
    "img_array = np.expand_dims(img_array, axis=0)\n",
    "img_array = preprocess_input(img_array)\n",
    "\n",
    "# Load the model\n",
    "model = gender_model\n",
    "# Get the predicted class index\n",
    "preds = model.predict(img_array)\n",
    "class_index = np.argmax(preds[0])\n",
    "\n",
    "# Generate the heatmap\n",
    "heatmap = generate_heatmap(model, img_array, class_index)\n",
    "\n",
    "# Resize the heatmap to the original image size\n",
    "heatmap = cv2.resize(heatmap, (400, 400))\n",
    "heatmap = cv2.applyColorMap(np.uint8(255 * heatmap), cv2.COLORMAP_JET)\n",
    "\n",
    "# Convert the image to a numpy array\n",
    "img_array = img_to_array(img).astype(\"uint8\")\n",
    "\n",
    "# Overlay the heatmap on the original image\n",
    "overlay = cv2.addWeighted(img_array, 0.5, heatmap, 0.5, 0)\n",
    "\n",
    "# Show the heatmap\n",
    "fig, ax = plt.subplots()\n",
    "ax.imshow(overlay)\n",
    "ax.axis(\"off\")\n",
    "plt.show()"
   ]
  },
  {
   "cell_type": "code",
   "execution_count": null,
   "metadata": {},
   "outputs": [],
   "source": [
    "for i in df.iloc[0]:\n",
    "    print(i)"
   ]
  },
  {
   "cell_type": "code",
   "execution_count": 122,
   "metadata": {},
   "outputs": [
    {
     "name": "stdout",
     "output_type": "stream",
     "text": [
      "1/1 [==============================] - 0s 146ms/step\n",
      "Probability Male: 0.0\n",
      "1/1 [==============================] - 0s 211ms/step\n",
      "Attractiveness \n",
      "Prediction: 2.596\n"
     ]
    }
   ],
   "source": [
    "import numpy as np\n",
    "import tensorflow as tf\n",
    "from tensorflow.keras.preprocessing.image import load_img, img_to_array\n",
    "from tensorflow.keras.models import load_model\n",
    "\n",
    "# Load the new image\n",
    "#Kyle\n",
    "# img_path = r\"C:\\Users\\kyleb\\Downloads\\IMG-0895.jpg\"\n",
    "#Connor\n",
    "# img_path = r\"C:\\Users\\kyleb\\Downloads\\IMG-5298.jpg\"\n",
    "#Ponthea\n",
    "# img_path = r\"C:\\Users\\kyleb\\Downloads\\IMG-5300.jpg\"\n",
    "#Gil\n",
    "img_path = r\"C:\\Users\\kyleb\\Downloads\\IMG-5301.jpg\"\n",
    "\n",
    "\n",
    "\n",
    "img = load_img(img_path, target_size=(400, 400))\n",
    "img_array = img_to_array(img)\n",
    "img_array = img_array.reshape((1,) + img_array.shape)\n",
    "img_array = img_array / 255.0\n",
    "\n",
    "# Predict the gender\n",
    "gender_pred = gender_model.predict(img_array)\n",
    "print(\"Probability Male:\",round(gender_pred[0][0],3))\n",
    "gender = \"M\" if gender_pred > 0.5 else \"F\"\n",
    "if (gender == \"M\"):\n",
    "    # Predict the attractiveness\n",
    "    attractiveness_pred = male_model.predict(img_array)\n",
    "    attractiveness = attractiveness_pred[0][0]\n",
    "else:\n",
    "    # Predict the attractiveness\n",
    "    attractiveness_pred = female_model.predict(img_array)\n",
    "    attractiveness = attractiveness_pred[0][0]\n",
    "\n",
    "\n",
    "print(\"Attractiveness \\nPrediction:\", round(attractiveness,3))"
   ]
  },
  {
   "cell_type": "code",
   "execution_count": null,
   "metadata": {},
   "outputs": [],
   "source": []
  }
 ],
 "metadata": {
  "kernelspec": {
   "display_name": "Python 3",
   "language": "python",
   "name": "python3"
  },
  "language_info": {
   "codemirror_mode": {
    "name": "ipython",
    "version": 3
   },
   "file_extension": ".py",
   "mimetype": "text/x-python",
   "name": "python",
   "nbconvert_exporter": "python",
   "pygments_lexer": "ipython3",
   "version": "3.10.6"
  },
  "orig_nbformat": 4
 },
 "nbformat": 4,
 "nbformat_minor": 2
}
